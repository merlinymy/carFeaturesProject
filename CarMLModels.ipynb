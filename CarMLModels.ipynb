{
 "cells": [
  {
   "cell_type": "code",
   "execution_count": 1,
   "metadata": {},
   "outputs": [],
   "source": [
    "%matplotlib inline\n",
    "\n",
    "import pandas as pd\n",
    "import numpy as np\n",
    "import matplotlib.pyplot as plt\n",
    "\n",
    "from sklearn.preprocessing import scale \n",
    "from sklearn.model_selection import train_test_split\n",
    "from sklearn.linear_model import Ridge, RidgeCV, Lasso, LassoCV\n",
    "from sklearn.metrics import mean_squared_error\n",
    "from sklearn.model_selection import train_test_split\n",
    "import xgboost as xgb\n",
    "from xgboost import XGBRegressor\n",
    "import os\n",
    "os.environ['KMP_DUPLICATE_LIB_OK']='True'"
   ]
  },
  {
   "cell_type": "code",
   "execution_count": null,
   "metadata": {},
   "outputs": [],
   "source": [
    "['MSRP', 'Passenger Capacity', 'Passenger Doors',\n",
    "       'Base Curb Weight (lbs)', 'Front Hip Room (in)', 'Front Leg Room (in)',\n",
    "       'Second Shoulder Room (in)', 'Passenger Volume',\n",
    "       'Second Head Room (in)', 'Front Shoulder Room (in)',\n",
    "       'Second Hip Room (in)', 'Front Head Room (in)', 'Second Leg Room (in)',\n",
    "       'Wheelbase (in)', 'Track Width, Front (in)',\n",
    "       'Width, Max w/o mirrors (in)', 'Track Width, Rear (in)',\n",
    "       'Height, Overall (in)', 'Fuel Tank Capacity, Approx (gal)',\n",
    "       'Fuel Economy Est-Combined (MPG)', 'EPA Fuel Economy Est - City (MPG)',\n",
    "       'EPA Fuel Economy Est - Hwy (MPG)', 'First Gear Ratio (:1)',\n",
    "       'Sixth Gear Ratio (:1)', 'Fourth Gear Ratio (:1)',\n",
    "       'Second Gear Ratio (:1)', 'Reverse Ratio (:1)', 'Fifth Gear Ratio (:1)',\n",
    "       'Third Gear Ratio (:1)', 'Final Drive Axle Ratio (:1)',\n",
    "       'Rear Brake Rotor Diam x Thickness (in)',\n",
    "       'Front Brake Rotor Diam x Thickness (in)', 'Basic Miles/km',\n",
    "       'Basic Years', 'Corrosion Miles/km', 'Corrosion Years',\n",
    "       'Drivetrain Miles/km', 'Drivetrain Years',\n",
    "       'Roadside Assistance Miles/km', 'Roadside Assistance Years',\n",
    "       'Maximum Alternator Capacity (amps)',\n",
    "       'Cold Cranking Amps @ 0° F (Primary)',\n",
    "       'Wt Distributing Hitch - Max Tongue Wt. (lbs)', 'Gears',\n",
    "       'Net Horsepower RPM', 'Net Torque', 'Displacement (L)',\n",
    "       'Displacement (cc)', 'Rear Tire Width', 'Front Tire Width',\n",
    "       'Rear Wheel Size', 'Front Wheel Size', 'Tire Width Ratio',\n",
    "       'Wheel Size Ratio', 'Tire Ratio', 'Year', 'Cylinders',\n",
    "       'Net Torque RPM']"
   ]
  },
  {
   "cell_type": "markdown",
   "metadata": {},
   "source": [
    "# Ridge Regression\n",
    "## Ridge is a linear least squares model with l2 regularization. In other words, it is linear regression with l2 regularizer. Over-fitting or under-fitting of the Ridge model depends on the parameter alpha, which can be tuned to the right value by doing hyper-parameter tuning as shown below."
   ]
  },
  {
   "cell_type": "code",
   "execution_count": 3,
   "metadata": {},
   "outputs": [
    {
     "ename": "NameError",
     "evalue": "name 'tqdm' is not defined",
     "output_type": "error",
     "traceback": [
      "\u001b[0;31m---------------------------------------------------------------------------\u001b[0m",
      "\u001b[0;31mNameError\u001b[0m                                 Traceback (most recent call last)",
      "\u001b[0;32m<ipython-input-3-9f1ba4bf5d3c>\u001b[0m in \u001b[0;36m<module>\u001b[0;34m\u001b[0m\n\u001b[1;32m      1\u001b[0m \u001b[0malpha\u001b[0m \u001b[0;34m=\u001b[0m \u001b[0;34m[\u001b[0m\u001b[0;36m1\u001b[0m\u001b[0;34m,\u001b[0m \u001b[0;36m2\u001b[0m\u001b[0;34m,\u001b[0m \u001b[0;36m3\u001b[0m\u001b[0;34m,\u001b[0m \u001b[0;36m3.5\u001b[0m\u001b[0;34m,\u001b[0m \u001b[0;36m4\u001b[0m\u001b[0;34m,\u001b[0m \u001b[0;36m4.5\u001b[0m\u001b[0;34m,\u001b[0m \u001b[0;36m5\u001b[0m\u001b[0;34m,\u001b[0m \u001b[0;36m6\u001b[0m\u001b[0;34m,\u001b[0m \u001b[0;36m7\u001b[0m\u001b[0;34m]\u001b[0m\u001b[0;34m\u001b[0m\u001b[0;34m\u001b[0m\u001b[0m\n\u001b[1;32m      2\u001b[0m \u001b[0mcv_rmsle_array\u001b[0m\u001b[0;34m=\u001b[0m\u001b[0;34m[\u001b[0m\u001b[0;34m]\u001b[0m\u001b[0;34m\u001b[0m\u001b[0;34m\u001b[0m\u001b[0m\n\u001b[0;32m----> 3\u001b[0;31m \u001b[0;32mfor\u001b[0m \u001b[0mi\u001b[0m \u001b[0;32min\u001b[0m \u001b[0mtqdm\u001b[0m\u001b[0;34m(\u001b[0m\u001b[0malpha\u001b[0m\u001b[0;34m)\u001b[0m\u001b[0;34m:\u001b[0m\u001b[0;34m\u001b[0m\u001b[0;34m\u001b[0m\u001b[0m\n\u001b[0m\u001b[1;32m      4\u001b[0m     \u001b[0mmodel\u001b[0m \u001b[0;34m=\u001b[0m \u001b[0mRidge\u001b[0m\u001b[0;34m(\u001b[0m\u001b[0msolver\u001b[0m\u001b[0;34m=\u001b[0m\u001b[0;34m\"sag\"\u001b[0m\u001b[0;34m,\u001b[0m \u001b[0mrandom_state\u001b[0m\u001b[0;34m=\u001b[0m\u001b[0;36m42\u001b[0m\u001b[0;34m,\u001b[0m \u001b[0malpha\u001b[0m\u001b[0;34m=\u001b[0m\u001b[0mi\u001b[0m\u001b[0;34m)\u001b[0m\u001b[0;34m\u001b[0m\u001b[0;34m\u001b[0m\u001b[0m\n\u001b[1;32m      5\u001b[0m     \u001b[0mmodel\u001b[0m\u001b[0;34m.\u001b[0m\u001b[0mfit\u001b[0m\u001b[0;34m(\u001b[0m\u001b[0mX_train\u001b[0m\u001b[0;34m,\u001b[0m \u001b[0my_train\u001b[0m\u001b[0;34m)\u001b[0m\u001b[0;34m\u001b[0m\u001b[0;34m\u001b[0m\u001b[0m\n",
      "\u001b[0;31mNameError\u001b[0m: name 'tqdm' is not defined"
     ]
    }
   ],
   "source": [
    "alpha = [1, 2, 3, 3.5, 4, 4.5, 5, 6, 7] \n",
    "cv_rmsle_array=[] \n",
    "for i in tqdm(alpha):\n",
    "    model = Ridge(solver=\"sag\", random_state=42, alpha=i)\n",
    "    model.fit(X_train, y_train)\n",
    "    preds_cv = model.predict(X_cv)\n",
    "    cv_rmsle_array.append(sqrt(mse(y_cv, preds_cv)))\n",
    "\n",
    "for i in range(len(cv_rmsle_array)):\n",
    "    print ('RMSLE for alpha = ',alpha[i],'is',cv_rmsle_array[i])\n",
    "    \n",
    "best_alpha = np.argmin(cv_rmsle_array)\n",
    "\n",
    "fig, ax = plt.subplots()\n",
    "ax.plot(alpha, cv_rmsle_array)\n",
    "ax.scatter(alpha, cv_rmsle_array)\n",
    "for i, txt in enumerate(np.round(cv_rmsle_array,3)):\n",
    "    ax.annotate((alpha[i],np.round(txt,3)), (alpha[i],cv_rmsle_array[i]))\n",
    "\n",
    "plt.title(\"Cross Validation Error for each alpha\")\n",
    "plt.xlabel(\"Alpha\")\n",
    "plt.ylabel(\"Error\")\n",
    "plt.show()"
   ]
  },
  {
   "cell_type": "code",
   "execution_count": 2,
   "metadata": {},
   "outputs": [
    {
     "name": "stdout",
     "output_type": "stream",
     "text": [
      "Requirement already satisfied: tqdm in /opt/anaconda3/lib/python3.7/site-packages (4.42.0)\n",
      "Note: you may need to restart the kernel to use updated packages.\n"
     ]
    }
   ],
   "source": [
    "pip install tqdm"
   ]
  },
  {
   "cell_type": "code",
   "execution_count": null,
   "metadata": {},
   "outputs": [],
   "source": []
  }
 ],
 "metadata": {
  "kernelspec": {
   "display_name": "Python 3",
   "language": "python",
   "name": "python3"
  },
  "language_info": {
   "codemirror_mode": {
    "name": "ipython",
    "version": 3
   },
   "file_extension": ".py",
   "mimetype": "text/x-python",
   "name": "python",
   "nbconvert_exporter": "python",
   "pygments_lexer": "ipython3",
   "version": "3.7.4"
  }
 },
 "nbformat": 4,
 "nbformat_minor": 4
}
