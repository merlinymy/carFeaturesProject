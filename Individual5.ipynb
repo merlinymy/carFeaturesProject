{
 "cells": [
  {
   "cell_type": "code",
   "execution_count": 1,
   "metadata": {},
   "outputs": [],
   "source": [
    "import pandas as pd"
   ]
  },
  {
   "cell_type": "code",
   "execution_count": 2,
   "metadata": {},
   "outputs": [],
   "source": [
    "dataPath = \"adidas.csv\""
   ]
  },
  {
   "cell_type": "code",
   "execution_count": 3,
   "metadata": {},
   "outputs": [],
   "source": [
    "df = pd.read_csv(dataPath)"
   ]
  },
  {
   "cell_type": "code",
   "execution_count": 4,
   "metadata": {},
   "outputs": [
    {
     "data": {
      "text/plain": [
       "Index(['Product Name', 'Product ID', 'Listing Price', 'Sale Price', 'Discount',\n",
       "       'Brand', 'Description', 'Rating', 'Reviews', 'Last Visited'],\n",
       "      dtype='object')"
      ]
     },
     "execution_count": 4,
     "metadata": {},
     "output_type": "execute_result"
    }
   ],
   "source": [
    "df.columns"
   ]
  },
  {
   "cell_type": "markdown",
   "metadata": {},
   "source": [
    "# 1. What are the total product counts for the Nike and Adidas brands?"
   ]
  },
  {
   "cell_type": "code",
   "execution_count": 5,
   "metadata": {},
   "outputs": [],
   "source": [
    "#unique value shows multiple adidas brand, change them to Adidas.\n",
    "\n",
    "brandCol = df['Brand'].unique()"
   ]
  },
  {
   "cell_type": "code",
   "execution_count": 6,
   "metadata": {},
   "outputs": [],
   "source": [
    "#update column\n",
    "\n",
    "for names in brandCol:\n",
    "    if 'Adidas' in names:\n",
    "        df['Brand'] = df['Brand'].str.replace(names, \"Adidas\")"
   ]
  },
  {
   "cell_type": "code",
   "execution_count": 7,
   "metadata": {},
   "outputs": [
    {
     "data": {
      "text/plain": [
       "array(['Adidas', 'Nike'], dtype=object)"
      ]
     },
     "execution_count": 7,
     "metadata": {},
     "output_type": "execute_result"
    }
   ],
   "source": [
    "#check for unique agian\n",
    "\n",
    "df['Brand'].unique()"
   ]
  },
  {
   "cell_type": "code",
   "execution_count": 8,
   "metadata": {},
   "outputs": [
    {
     "name": "stdout",
     "output_type": "stream",
     "text": [
      "Adidas has total product counts of 2625, \n",
      "Nike has total product counts of 643\n"
     ]
    }
   ],
   "source": [
    "#count numbers\n",
    "adidaCount = 0\n",
    "NikeCount = 0\n",
    "for brand in df['Brand']:\n",
    "    if brand == \"Adidas\":\n",
    "        adidaCount += 1\n",
    "    else: \n",
    "        NikeCount += 1\n",
    "        \n",
    "#result\n",
    "print (f\"Adidas has total product counts of {adidaCount}, \\nNike has total product counts of {NikeCount}\")"
   ]
  },
  {
   "cell_type": "markdown",
   "metadata": {},
   "source": [
    "## Adidas has total product counts of 2625. Nike has total product counts of 643"
   ]
  },
  {
   "cell_type": "markdown",
   "metadata": {},
   "source": [
    "# 2. What is the average sales price for each brand?"
   ]
  },
  {
   "cell_type": "code",
   "execution_count": 9,
   "metadata": {},
   "outputs": [
    {
     "data": {
      "text/plain": [
       "True"
      ]
     },
     "execution_count": 9,
     "metadata": {},
     "output_type": "execute_result"
    }
   ],
   "source": [
    "#pull columns out and convert to list for easier useage\n",
    "priceList = df['Sale Price'].tolist()\n",
    "brandList = df['Brand'].tolist()\n",
    "\n",
    "#check if is equal length\n",
    "len(priceList) == len(brandList)"
   ]
  },
  {
   "cell_type": "code",
   "execution_count": 10,
   "metadata": {},
   "outputs": [],
   "source": [
    "#overkill but fun\n",
    "\n",
    "def averagePrice(brand: list, price: list):\n",
    "    #declare variables\n",
    "    adidasCount = 0\n",
    "    nikeCount = 0\n",
    "    adidasTotalPrice = 0\n",
    "    nikeTotalPrice = 0\n",
    "    \n",
    "    #check if length is the same\n",
    "    if (len(brand) != len(price)):\n",
    "        print(\"lists must have same length to proceed\")\n",
    "        \n",
    "    #update variables\n",
    "    for i in range(len(brand)):\n",
    "        if brandList[i] == 'Adidas':\n",
    "            adidasCount += 1\n",
    "            adidasTotalPrice += priceList[i]\n",
    "        else:\n",
    "            nikeCount += 1\n",
    "            nikeTotalPrice += priceList[i]\n",
    "            \n",
    "    #calculate avg        \n",
    "    adidasAvgPrice = adidasTotalPrice / adidasCount\n",
    "    nikeAvgPrice = nikeTotalPrice / nikeCount\n",
    "    \n",
    "    #result\n",
    "    print(f\"The average price for adidas is ${adidasAvgPrice:.2f}\\n,and the average price for nike is ${nikeAvgPrice:.2f}\")"
   ]
  },
  {
   "cell_type": "code",
   "execution_count": 11,
   "metadata": {},
   "outputs": [
    {
     "name": "stdout",
     "output_type": "stream",
     "text": [
      "The average price for adidas is $5135.00\n",
      ",and the average price for nike is $10213.68\n"
     ]
    }
   ],
   "source": [
    "averagePrice(brandList, priceList)"
   ]
  },
  {
   "cell_type": "markdown",
   "metadata": {},
   "source": [
    "## The average price for adidas is \\\\$5135.00, and the average price for nike is \\\\$10213.68"
   ]
  },
  {
   "cell_type": "markdown",
   "metadata": {},
   "source": [
    "# 3. What conclusions might you draw based on the answers to these questions above?"
   ]
  },
  {
   "cell_type": "markdown",
   "metadata": {},
   "source": [
    "## Adidas offers more choice than Nike does, and the average price of the Adidas' is also lower than which of the Nike's. Adidas probably have more factores to make shoes and probably Adidas has higher market values."
   ]
  },
  {
   "cell_type": "code",
   "execution_count": null,
   "metadata": {},
   "outputs": [],
   "source": []
  }
 ],
 "metadata": {
  "kernelspec": {
   "display_name": "Python 3",
   "language": "python",
   "name": "python3"
  },
  "language_info": {
   "codemirror_mode": {
    "name": "ipython",
    "version": 3
   },
   "file_extension": ".py",
   "mimetype": "text/x-python",
   "name": "python",
   "nbconvert_exporter": "python",
   "pygments_lexer": "ipython3",
   "version": "3.7.4"
  }
 },
 "nbformat": 4,
 "nbformat_minor": 4
}
