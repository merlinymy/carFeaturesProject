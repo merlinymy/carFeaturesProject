{
 "cells": [
  {
   "cell_type": "code",
   "execution_count": 2,
   "metadata": {},
   "outputs": [],
   "source": [
    "%matplotlib inline\n",
    "\n",
    "import pandas as pd\n",
    "import numpy as np\n",
    "import matplotlib.pyplot as plt\n",
    "\n",
    "from sklearn.preprocessing import scale \n",
    "from sklearn.model_selection import train_test_split\n",
    "from sklearn.linear_model import Ridge, RidgeCV, Lasso, LassoCV\n",
    "from sklearn.metrics import mean_squared_error\n",
    "from sklearn.model_selection import train_test_split\n",
    "import xgboost as xgb\n",
    "from xgboost import XGBRegressor\n",
    "from numpy import sqrt \n",
    "from sklearn.metrics import mean_squared_error as mse\n",
    "import os\n",
    "os.environ['KMP_DUPLICATE_LIB_OK']='True'\n",
    "from sklearn.ensemble import RandomForestRegressor\n",
    "from sklearn.svm import SVR"
   ]
  },
  {
   "cell_type": "code",
   "execution_count": 3,
   "metadata": {},
   "outputs": [],
   "source": [
    "dataPath = \"cleanedCarFeatures.csv\""
   ]
  },
  {
   "cell_type": "code",
   "execution_count": 4,
   "metadata": {},
   "outputs": [],
   "source": [
    "df = pd.read_csv(dataPath, low_memory = False)"
   ]
  },
  {
   "cell_type": "code",
   "execution_count": 5,
   "metadata": {},
   "outputs": [
    {
     "data": {
      "text/plain": [
       "2019.0    2431\n",
       "2018.0    2801\n",
       "2016.0    2225\n",
       "Name: Year, dtype: int64"
      ]
     },
     "execution_count": 5,
     "metadata": {},
     "output_type": "execute_result"
    }
   ],
   "source": [
    "df = df.loc[df['Year']>2015]\n",
    "df['Year'].value_counts().sort_index(ascending=False)"
   ]
  },
  {
   "cell_type": "code",
   "execution_count": 6,
   "metadata": {},
   "outputs": [],
   "source": [
    "specs_to_dummies = []\n",
    "        \n",
    "for item in specs_to_dummies:\n",
    "    dummies = pd.get_dummies(raw_data[item], prefix_sep=': ', prefix=item)\n",
    "    raw_data = pd.concat([raw_data, dummies], sort=False, axis=1)\n",
    "\n",
    "df = df.drop(specs_to_dummies, axis=1)"
   ]
  },
  {
   "cell_type": "code",
   "execution_count": 7,
   "metadata": {},
   "outputs": [
    {
     "data": {
      "text/html": [
       "<div>\n",
       "<style scoped>\n",
       "    .dataframe tbody tr th:only-of-type {\n",
       "        vertical-align: middle;\n",
       "    }\n",
       "\n",
       "    .dataframe tbody tr th {\n",
       "        vertical-align: top;\n",
       "    }\n",
       "\n",
       "    .dataframe thead th {\n",
       "        text-align: right;\n",
       "    }\n",
       "</style>\n",
       "<table border=\"1\" class=\"dataframe\">\n",
       "  <thead>\n",
       "    <tr style=\"text-align: right;\">\n",
       "      <th></th>\n",
       "      <th>Unnamed: 0</th>\n",
       "      <th>carName</th>\n",
       "      <th>MSRP</th>\n",
       "      <th>Style Name</th>\n",
       "      <th>Drivetrain</th>\n",
       "      <th>Passenger Capacity</th>\n",
       "      <th>Passenger Doors</th>\n",
       "      <th>Body Style</th>\n",
       "      <th>EPA Classification</th>\n",
       "      <th>Base Curb Weight (lbs)</th>\n",
       "      <th>...</th>\n",
       "      <th>Front Tire Width</th>\n",
       "      <th>Rear Wheel Size</th>\n",
       "      <th>Front Wheel Size</th>\n",
       "      <th>Tire Rating</th>\n",
       "      <th>Tire Width Ratio</th>\n",
       "      <th>Wheel Size Ratio</th>\n",
       "      <th>Tire Ratio</th>\n",
       "      <th>Year</th>\n",
       "      <th>Cylinders</th>\n",
       "      <th>Net Torque RPM</th>\n",
       "    </tr>\n",
       "  </thead>\n",
       "  <tbody>\n",
       "  </tbody>\n",
       "</table>\n",
       "<p>0 rows × 100 columns</p>\n",
       "</div>"
      ],
      "text/plain": [
       "Empty DataFrame\n",
       "Columns: [Unnamed: 0, carName, MSRP, Style Name, Drivetrain, Passenger Capacity, Passenger Doors, Body Style, EPA Classification, Base Curb Weight (lbs), Front Hip Room (in), Front Leg Room (in), Second Shoulder Room (in), Passenger Volume, Second Head Room (in), Front Shoulder Room (in), Second Hip Room (in), Front Head Room (in), Second Leg Room (in), Wheelbase (in), Min Ground Clearance (in), Track Width, Front (in), Width, Max w/o mirrors (in), Track Width, Rear (in), Height, Overall (in), Cargo Volume to Seat 1, Cargo Volume to Seat 2, Fuel Tank Capacity, Approx (gal), Fuel Economy Est-Combined (MPG), EPA Fuel Economy Est - City (MPG), EPA Fuel Economy Est - Hwy (MPG), Engine Order Code, Fuel System, First Gear Ratio (:1), Sixth Gear Ratio (:1), Fourth Gear Ratio (:1), Trans Order Code, Second Gear Ratio (:1), Reverse Ratio (:1), Fifth Gear Ratio (:1), Trans Type, Third Gear Ratio (:1), Final Drive Axle Ratio (:1), Rear Brake Rotor Diam x Thickness (in), Front Brake Rotor Diam x Thickness (in), Steering Type, Turning Diameter - Curb to Curb, Front Tire Order Code, Rear Tire Order Code, Front Wheel Material, Suspension Type - Front, Suspension Type - Rear (Cont.), Suspension Type - Rear, Suspension Type - Front (Cont.), Air Bag-Frontal-Driver, Air Bag-Frontal-Passenger, Air Bag-Passenger Switch (On/Off), Air Bag-Side Body-Front, Air Bag-Side Body-Rear, Air Bag-Side Head-Front, Air Bag-Side Head-Rear, Brakes-ABS, Child Safety Rear Door Locks, Daytime Running Lights, Traction Control, Night Vision, Rollover Protection Bars, Fog Lamps, Parking Aid, Tire Pressure Monitor, Back-Up Camera, Stability Control, Basic Miles/km, Basic Years, Corrosion Miles/km, Corrosion Years, Drivetrain Miles/km, Drivetrain Years, Roadside Assistance Miles/km, Roadside Assistance Years, Maximum Alternator Capacity (amps), Cold Cranking Amps @ 0° F (Primary), Wt Distributing Hitch - Max Tongue Wt. (lbs), Company Name, Gears, Net Horsepower RPM, Net Torque, Displacement (L), Displacement (cc), Rear Tire Width, Front Tire Width, Rear Wheel Size, Front Wheel Size, Tire Rating, Tire Width Ratio, Wheel Size Ratio, Tire Ratio, Year, Cylinders, Net Torque RPM]\n",
       "Index: []\n",
       "\n",
       "[0 rows x 100 columns]"
      ]
     },
     "execution_count": 7,
     "metadata": {},
     "output_type": "execute_result"
    }
   ],
   "source": [
    "# DELETE ALL ROWS WHICH MISSING MSRP\n",
    "df = df[pd.notnull(df['MSRP'])]\n",
    "df[df['MSRP'].isnull()]"
   ]
  },
  {
   "cell_type": "code",
   "execution_count": 8,
   "metadata": {},
   "outputs": [],
   "source": [
    "df['Corrosion Miles/km'] = df['Corrosion Miles/km'].str.replace(\"Unlimited\", \"10000000\")\n",
    "\n",
    "#######################################################################\n",
    "# REALLY SIMPLISTIC APPROACH TO RUN PREDICTIVE MODELS #################\n",
    "#######################################################################\n",
    "\n",
    "df = df.fillna(0)"
   ]
  },
  {
   "cell_type": "code",
   "execution_count": 9,
   "metadata": {},
   "outputs": [
    {
     "name": "stdout",
     "output_type": "stream",
     "text": [
      "Empty DataFrame\n",
      "Columns: [Unnamed: 0, carName, MSRP, Style Name, Drivetrain, Passenger Capacity, Passenger Doors, Body Style, EPA Classification, Base Curb Weight (lbs), Front Hip Room (in), Front Leg Room (in), Second Shoulder Room (in), Passenger Volume, Second Head Room (in), Front Shoulder Room (in), Second Hip Room (in), Front Head Room (in), Second Leg Room (in), Wheelbase (in), Min Ground Clearance (in), Track Width, Front (in), Width, Max w/o mirrors (in), Track Width, Rear (in), Height, Overall (in), Cargo Volume to Seat 1, Cargo Volume to Seat 2, Fuel Tank Capacity, Approx (gal), Fuel Economy Est-Combined (MPG), EPA Fuel Economy Est - City (MPG), EPA Fuel Economy Est - Hwy (MPG), Fuel System, First Gear Ratio (:1), Sixth Gear Ratio (:1), Fourth Gear Ratio (:1), Second Gear Ratio (:1), Reverse Ratio (:1), Fifth Gear Ratio (:1), Trans Type, Third Gear Ratio (:1), Final Drive Axle Ratio (:1), Rear Brake Rotor Diam x Thickness (in), Front Brake Rotor Diam x Thickness (in), Steering Type, Front Wheel Material, Suspension Type - Front, Suspension Type - Rear (Cont.), Suspension Type - Rear, Suspension Type - Front (Cont.), Air Bag-Frontal-Driver, Air Bag-Frontal-Passenger, Air Bag-Passenger Switch (On/Off), Air Bag-Side Body-Front, Air Bag-Side Body-Rear, Air Bag-Side Head-Front, Air Bag-Side Head-Rear, Brakes-ABS, Child Safety Rear Door Locks, Daytime Running Lights, Traction Control, Night Vision, Rollover Protection Bars, Fog Lamps, Parking Aid, Tire Pressure Monitor, Back-Up Camera, Stability Control, Basic Miles/km, Basic Years, Corrosion Miles/km, Corrosion Years, Drivetrain Miles/km, Drivetrain Years, Roadside Assistance Miles/km, Roadside Assistance Years, Maximum Alternator Capacity (amps), Cold Cranking Amps @ 0° F (Primary), Wt Distributing Hitch - Max Tongue Wt. (lbs), Company Name, Gears, Net Horsepower RPM, Net Torque, Displacement (L), Displacement (cc), Rear Tire Width, Front Tire Width, Rear Wheel Size, Front Wheel Size, Tire Rating, Tire Width Ratio, Wheel Size Ratio, Tire Ratio, Year, Cylinders, Net Torque RPM]\n",
      "Index: []\n",
      "\n",
      "[0 rows x 95 columns]\n"
     ]
    }
   ],
   "source": [
    "#df['Min Ground Clearance (in)'] = df['Min Ground Clearance (in)'].astype(float)\n",
    "\n",
    "del df['Engine Order Code'] \n",
    "\n",
    "del df['Trans Order Code'] \n",
    "del df['Turning Diameter - Curb to Curb'] \n",
    "del df['Front Tire Order Code'] \n",
    "del df['Rear Tire Order Code']\n",
    "print(df[df['Corrosion Miles/km'].isnull()])\n",
    "df['Corrosion Miles/km'] = pd.to_numeric(df['Corrosion Miles/km'], errors='coerce')\n",
    "df = df.dropna(subset=['Corrosion Miles/km'])"
   ]
  },
  {
   "cell_type": "code",
   "execution_count": null,
   "metadata": {},
   "outputs": [],
   "source": []
  },
  {
   "cell_type": "code",
   "execution_count": 10,
   "metadata": {},
   "outputs": [],
   "source": [
    "\n",
    "#df['Corrosion Miles/km']= df['Corrosion Miles/km'].str.replace('50,000', '50000')\n",
    "#df['Corrosion Miles/km']= df['Corrosion Miles/km'].str.replace('60,000', '60000')\n",
    "#df['Corrosion Miles/km']= df['Corrosion Miles/km'].str.replace('100,000', '100000')\n",
    "#df['Corrosion Miles/km'] = df['Corrosion Miles/km'].astype(int)\n",
    "df['Maximum Alternator Capacity (amps)'] = df['Maximum Alternator Capacity (amps)'].astype(int)\n",
    "df['Cold Cranking Amps @ 0° F (Primary)'] = df['Cold Cranking Amps @ 0° F (Primary)'].astype(int)\n",
    "df['Wt Distributing Hitch - Max Tongue Wt. (lbs)'] = df['Wt Distributing Hitch - Max Tongue Wt. (lbs)'].astype(int)"
   ]
  },
  {
   "cell_type": "code",
   "execution_count": 11,
   "metadata": {},
   "outputs": [],
   "source": [
    "df.head()\n",
    "\n",
    "\n",
    "duplicate_columns = df.columns[df.columns.duplicated()]\n",
    "duplicate_columns.to_list()\n",
    "\n",
    "df = df.select_dtypes(exclude=['object'])\n",
    "\n",
    "df.drop(duplicate_columns.to_list(), axis=1)\n",
    "del df['Unnamed: 0'] "
   ]
  },
  {
   "cell_type": "code",
   "execution_count": 12,
   "metadata": {},
   "outputs": [],
   "source": [
    "X_train, X_test, y_train, y_test = train_test_split(df.drop('MSRP', axis=1), df['MSRP'], test_size=0.33, random_state=42)"
   ]
  },
  {
   "cell_type": "code",
   "execution_count": 13,
   "metadata": {},
   "outputs": [
    {
     "name": "stderr",
     "output_type": "stream",
     "text": [
      "/opt/anaconda3/lib/python3.7/site-packages/sklearn/linear_model/_coordinate_descent.py:532: ConvergenceWarning: Objective did not converge. You might want to increase the number of iterations. Duality gap: 957620962.5452881, tolerance: 669111146.3481958\n",
      "  positive)\n",
      "/opt/anaconda3/lib/python3.7/site-packages/sklearn/linear_model/_coordinate_descent.py:532: ConvergenceWarning: Objective did not converge. You might want to increase the number of iterations. Duality gap: 1521006156.173584, tolerance: 669111146.3481958\n",
      "  positive)\n",
      "/opt/anaconda3/lib/python3.7/site-packages/sklearn/linear_model/_coordinate_descent.py:532: ConvergenceWarning: Objective did not converge. You might want to increase the number of iterations. Duality gap: 2466742640.213379, tolerance: 669111146.3481958\n",
      "  positive)\n",
      "/opt/anaconda3/lib/python3.7/site-packages/sklearn/linear_model/_coordinate_descent.py:532: ConvergenceWarning: Objective did not converge. You might want to increase the number of iterations. Duality gap: 4050454688.8406982, tolerance: 669111146.3481958\n",
      "  positive)\n",
      "/opt/anaconda3/lib/python3.7/site-packages/sklearn/linear_model/_coordinate_descent.py:532: ConvergenceWarning: Objective did not converge. You might want to increase the number of iterations. Duality gap: 6670170167.9470215, tolerance: 669111146.3481958\n",
      "  positive)\n",
      "/opt/anaconda3/lib/python3.7/site-packages/sklearn/linear_model/_coordinate_descent.py:532: ConvergenceWarning: Objective did not converge. You might want to increase the number of iterations. Duality gap: 10911808616.46289, tolerance: 669111146.3481958\n",
      "  positive)\n",
      "/opt/anaconda3/lib/python3.7/site-packages/sklearn/linear_model/_coordinate_descent.py:532: ConvergenceWarning: Objective did not converge. You might want to increase the number of iterations. Duality gap: 18622325044.814453, tolerance: 669111146.3481958\n",
      "  positive)\n",
      "/opt/anaconda3/lib/python3.7/site-packages/sklearn/linear_model/_coordinate_descent.py:532: ConvergenceWarning: Objective did not converge. You might want to increase the number of iterations. Duality gap: 26177957792.98755, tolerance: 669111146.3481958\n",
      "  positive)\n",
      "/opt/anaconda3/lib/python3.7/site-packages/sklearn/linear_model/_coordinate_descent.py:532: ConvergenceWarning: Objective did not converge. You might want to increase the number of iterations. Duality gap: 130791269329.52832, tolerance: 669111146.3481958\n",
      "  positive)\n",
      "/opt/anaconda3/lib/python3.7/site-packages/sklearn/linear_model/_coordinate_descent.py:532: ConvergenceWarning: Objective did not converge. You might want to increase the number of iterations. Duality gap: 232567142523.71637, tolerance: 669111146.3481958\n",
      "  positive)\n",
      "/opt/anaconda3/lib/python3.7/site-packages/sklearn/linear_model/_coordinate_descent.py:532: ConvergenceWarning: Objective did not converge. You might want to increase the number of iterations. Duality gap: 314006197250.7413, tolerance: 669111146.3481958\n",
      "  positive)\n",
      "/opt/anaconda3/lib/python3.7/site-packages/sklearn/linear_model/_coordinate_descent.py:532: ConvergenceWarning: Objective did not converge. You might want to increase the number of iterations. Duality gap: 376146919820.04016, tolerance: 669111146.3481958\n",
      "  positive)\n",
      "/opt/anaconda3/lib/python3.7/site-packages/sklearn/linear_model/_coordinate_descent.py:532: ConvergenceWarning: Objective did not converge. You might want to increase the number of iterations. Duality gap: 422905538844.7522, tolerance: 669111146.3481958\n",
      "  positive)\n"
     ]
    },
    {
     "data": {
      "text/plain": [
       "Text(0, 0.5, 'weights')"
      ]
     },
     "execution_count": 13,
     "metadata": {},
     "output_type": "execute_result"
    },
    {
     "data": {
      "image/png": "[encoded data removed]",
      "text/plain": [
       "<Figure size 432x288 with 1 Axes>"
      ]
     },
     "metadata": {
      "needs_background": "light"
     },
     "output_type": "display_data"
    }
   ],
   "source": [
    "alphas = 10**np.linspace(10,-2,100)*0.5\n",
    "\n",
    "lasso = Lasso(max_iter = 10000, normalize = True)\n",
    "coefs = []\n",
    "\n",
    "for a in alphas:\n",
    "    lasso.set_params(alpha=a)\n",
    "    lasso.fit(scale(X_train), y_train)\n",
    "    coefs.append(lasso.coef_)\n",
    "    \n",
    "ax = plt.gca()\n",
    "ax.plot(alphas*2, coefs)\n",
    "ax.set_xscale('log')\n",
    "plt.axis('tight')\n",
    "plt.xlabel('alpha')\n",
    "plt.ylabel('weights')"
   ]
  },
  {
   "cell_type": "code",
   "execution_count": 14,
   "metadata": {},
   "outputs": [],
   "source": [
    "pd.options.display.float_format = '{:.2f}'.format"
   ]
  },
  {
   "cell_type": "code",
   "execution_count": 15,
   "metadata": {},
   "outputs": [
    {
     "name": "stderr",
     "output_type": "stream",
     "text": [
      "/opt/anaconda3/lib/python3.7/site-packages/sklearn/linear_model/_coordinate_descent.py:528: ConvergenceWarning: Objective did not converge. You might want to increase the number of iterations. Duality gap: 10006397486.178833, tolerance: 611519581.269667\n",
      "  tol, rng, random, positive)\n",
      "/opt/anaconda3/lib/python3.7/site-packages/sklearn/linear_model/_coordinate_descent.py:528: ConvergenceWarning: Objective did not converge. You might want to increase the number of iterations. Duality gap: 96269506415.86707, tolerance: 611519581.269667\n",
      "  tol, rng, random, positive)\n",
      "/opt/anaconda3/lib/python3.7/site-packages/sklearn/linear_model/_coordinate_descent.py:528: ConvergenceWarning: Objective did not converge. You might want to increase the number of iterations. Duality gap: 185581480379.37976, tolerance: 611519581.269667\n",
      "  tol, rng, random, positive)\n",
      "/opt/anaconda3/lib/python3.7/site-packages/sklearn/linear_model/_coordinate_descent.py:528: ConvergenceWarning: Objective did not converge. You might want to increase the number of iterations. Duality gap: 257343270300.41913, tolerance: 611519581.269667\n",
      "  tol, rng, random, positive)\n",
      "/opt/anaconda3/lib/python3.7/site-packages/sklearn/linear_model/_coordinate_descent.py:528: ConvergenceWarning: Objective did not converge. You might want to increase the number of iterations. Duality gap: 308754545419.6417, tolerance: 611519581.269667\n",
      "  tol, rng, random, positive)\n",
      "/opt/anaconda3/lib/python3.7/site-packages/sklearn/linear_model/_coordinate_descent.py:528: ConvergenceWarning: Objective did not converge. You might want to increase the number of iterations. Duality gap: 352531254776.25323, tolerance: 611519581.269667\n",
      "  tol, rng, random, positive)\n",
      "/opt/anaconda3/lib/python3.7/site-packages/sklearn/linear_model/_coordinate_descent.py:528: ConvergenceWarning: Objective did not converge. You might want to increase the number of iterations. Duality gap: 385808419014.1881, tolerance: 611519581.269667\n",
      "  tol, rng, random, positive)\n",
      "/opt/anaconda3/lib/python3.7/site-packages/sklearn/linear_model/_coordinate_descent.py:528: ConvergenceWarning: Objective did not converge. You might want to increase the number of iterations. Duality gap: 6188020739.618408, tolerance: 620095988.1291654\n",
      "  tol, rng, random, positive)\n",
      "/opt/anaconda3/lib/python3.7/site-packages/sklearn/linear_model/_coordinate_descent.py:528: ConvergenceWarning: Objective did not converge. You might want to increase the number of iterations. Duality gap: 91536744586.12329, tolerance: 620095988.1291654\n",
      "  tol, rng, random, positive)\n",
      "/opt/anaconda3/lib/python3.7/site-packages/sklearn/linear_model/_coordinate_descent.py:528: ConvergenceWarning: Objective did not converge. You might want to increase the number of iterations. Duality gap: 184558930670.37683, tolerance: 620095988.1291654\n",
      "  tol, rng, random, positive)\n",
      "/opt/anaconda3/lib/python3.7/site-packages/sklearn/linear_model/_coordinate_descent.py:528: ConvergenceWarning: Objective did not converge. You might want to increase the number of iterations. Duality gap: 259881899575.79492, tolerance: 620095988.1291654\n",
      "  tol, rng, random, positive)\n",
      "/opt/anaconda3/lib/python3.7/site-packages/sklearn/linear_model/_coordinate_descent.py:528: ConvergenceWarning: Objective did not converge. You might want to increase the number of iterations. Duality gap: 317902517467.5096, tolerance: 620095988.1291654\n",
      "  tol, rng, random, positive)\n",
      "/opt/anaconda3/lib/python3.7/site-packages/sklearn/linear_model/_coordinate_descent.py:528: ConvergenceWarning: Objective did not converge. You might want to increase the number of iterations. Duality gap: 359905096286.5096, tolerance: 620095988.1291654\n",
      "  tol, rng, random, positive)\n",
      "/opt/anaconda3/lib/python3.7/site-packages/sklearn/linear_model/_coordinate_descent.py:528: ConvergenceWarning: Objective did not converge. You might want to increase the number of iterations. Duality gap: 8938023415.25, tolerance: 624750757.0828024\n",
      "  tol, rng, random, positive)\n",
      "/opt/anaconda3/lib/python3.7/site-packages/sklearn/linear_model/_coordinate_descent.py:528: ConvergenceWarning: Objective did not converge. You might want to increase the number of iterations. Duality gap: 93160471263.88733, tolerance: 624750757.0828024\n",
      "  tol, rng, random, positive)\n",
      "/opt/anaconda3/lib/python3.7/site-packages/sklearn/linear_model/_coordinate_descent.py:528: ConvergenceWarning: Objective did not converge. You might want to increase the number of iterations. Duality gap: 181773024760.7157, tolerance: 624750757.0828024\n",
      "  tol, rng, random, positive)\n",
      "/opt/anaconda3/lib/python3.7/site-packages/sklearn/linear_model/_coordinate_descent.py:528: ConvergenceWarning: Objective did not converge. You might want to increase the number of iterations. Duality gap: 253521084356.54346, tolerance: 624750757.0828024\n",
      "  tol, rng, random, positive)\n",
      "/opt/anaconda3/lib/python3.7/site-packages/sklearn/linear_model/_coordinate_descent.py:528: ConvergenceWarning: Objective did not converge. You might want to increase the number of iterations. Duality gap: 309046195585.5601, tolerance: 624750757.0828024\n",
      "  tol, rng, random, positive)\n",
      "/opt/anaconda3/lib/python3.7/site-packages/sklearn/linear_model/_coordinate_descent.py:528: ConvergenceWarning: Objective did not converge. You might want to increase the number of iterations. Duality gap: 351755628342.3018, tolerance: 624750757.0828024\n",
      "  tol, rng, random, positive)\n",
      "/opt/anaconda3/lib/python3.7/site-packages/sklearn/linear_model/_coordinate_descent.py:528: ConvergenceWarning: Objective did not converge. You might want to increase the number of iterations. Duality gap: 37227746242.49536, tolerance: 586872588.1232377\n",
      "  tol, rng, random, positive)\n",
      "/opt/anaconda3/lib/python3.7/site-packages/sklearn/linear_model/_coordinate_descent.py:528: ConvergenceWarning: Objective did not converge. You might want to increase the number of iterations. Duality gap: 130216815873.01697, tolerance: 586872588.1232377\n",
      "  tol, rng, random, positive)\n",
      "/opt/anaconda3/lib/python3.7/site-packages/sklearn/linear_model/_coordinate_descent.py:528: ConvergenceWarning: Objective did not converge. You might want to increase the number of iterations. Duality gap: 213492291134.0829, tolerance: 586872588.1232377\n",
      "  tol, rng, random, positive)\n",
      "/opt/anaconda3/lib/python3.7/site-packages/sklearn/linear_model/_coordinate_descent.py:528: ConvergenceWarning: Objective did not converge. You might want to increase the number of iterations. Duality gap: 279208271828.5852, tolerance: 586872588.1232377\n",
      "  tol, rng, random, positive)\n",
      "/opt/anaconda3/lib/python3.7/site-packages/sklearn/linear_model/_coordinate_descent.py:528: ConvergenceWarning: Objective did not converge. You might want to increase the number of iterations. Duality gap: 329866784275.1395, tolerance: 586872588.1232377\n",
      "  tol, rng, random, positive)\n",
      "/opt/anaconda3/lib/python3.7/site-packages/sklearn/linear_model/_coordinate_descent.py:528: ConvergenceWarning: Objective did not converge. You might want to increase the number of iterations. Duality gap: 366760755112.8336, tolerance: 586872588.1232377\n",
      "  tol, rng, random, positive)\n",
      "/opt/anaconda3/lib/python3.7/site-packages/sklearn/linear_model/_coordinate_descent.py:528: ConvergenceWarning: Objective did not converge. You might want to increase the number of iterations. Duality gap: 2091851619.6446533, tolerance: 628087750.3950633\n",
      "  tol, rng, random, positive)\n",
      "/opt/anaconda3/lib/python3.7/site-packages/sklearn/linear_model/_coordinate_descent.py:528: ConvergenceWarning: Objective did not converge. You might want to increase the number of iterations. Duality gap: 79593838710.8407, tolerance: 628087750.3950633\n",
      "  tol, rng, random, positive)\n",
      "/opt/anaconda3/lib/python3.7/site-packages/sklearn/linear_model/_coordinate_descent.py:528: ConvergenceWarning: Objective did not converge. You might want to increase the number of iterations. Duality gap: 172136558165.3767, tolerance: 628087750.3950633\n",
      "  tol, rng, random, positive)\n",
      "/opt/anaconda3/lib/python3.7/site-packages/sklearn/linear_model/_coordinate_descent.py:528: ConvergenceWarning: Objective did not converge. You might want to increase the number of iterations. Duality gap: 248366153497.71997, tolerance: 628087750.3950633\n",
      "  tol, rng, random, positive)\n",
      "/opt/anaconda3/lib/python3.7/site-packages/sklearn/linear_model/_coordinate_descent.py:528: ConvergenceWarning: Objective did not converge. You might want to increase the number of iterations. Duality gap: 307464109571.17926, tolerance: 628087750.3950633\n",
      "  tol, rng, random, positive)\n",
      "/opt/anaconda3/lib/python3.7/site-packages/sklearn/linear_model/_coordinate_descent.py:528: ConvergenceWarning: Objective did not converge. You might want to increase the number of iterations. Duality gap: 350166042681.49744, tolerance: 628087750.3950633\n",
      "  tol, rng, random, positive)\n",
      "/opt/anaconda3/lib/python3.7/site-packages/sklearn/linear_model/_coordinate_descent.py:528: ConvergenceWarning: Objective did not converge. You might want to increase the number of iterations. Duality gap: 386468949308.3572, tolerance: 628087750.3950633\n",
      "  tol, rng, random, positive)\n"
     ]
    },
    {
     "name": "stderr",
     "output_type": "stream",
     "text": [
      "/opt/anaconda3/lib/python3.7/site-packages/sklearn/linear_model/_coordinate_descent.py:528: ConvergenceWarning: Objective did not converge. You might want to increase the number of iterations. Duality gap: 43884365411.591675, tolerance: 598253227.0822428\n",
      "  tol, rng, random, positive)\n",
      "/opt/anaconda3/lib/python3.7/site-packages/sklearn/linear_model/_coordinate_descent.py:528: ConvergenceWarning: Objective did not converge. You might want to increase the number of iterations. Duality gap: 137506490547.8711, tolerance: 598253227.0822428\n",
      "  tol, rng, random, positive)\n",
      "/opt/anaconda3/lib/python3.7/site-packages/sklearn/linear_model/_coordinate_descent.py:528: ConvergenceWarning: Objective did not converge. You might want to increase the number of iterations. Duality gap: 219428980046.96497, tolerance: 598253227.0822428\n",
      "  tol, rng, random, positive)\n",
      "/opt/anaconda3/lib/python3.7/site-packages/sklearn/linear_model/_coordinate_descent.py:528: ConvergenceWarning: Objective did not converge. You might want to increase the number of iterations. Duality gap: 283641068857.8026, tolerance: 598253227.0822428\n",
      "  tol, rng, random, positive)\n",
      "/opt/anaconda3/lib/python3.7/site-packages/sklearn/linear_model/_coordinate_descent.py:528: ConvergenceWarning: Objective did not converge. You might want to increase the number of iterations. Duality gap: 329732677940.3025, tolerance: 598253227.0822428\n",
      "  tol, rng, random, positive)\n",
      "/opt/anaconda3/lib/python3.7/site-packages/sklearn/linear_model/_coordinate_descent.py:528: ConvergenceWarning: Objective did not converge. You might want to increase the number of iterations. Duality gap: 369089265785.6079, tolerance: 598253227.0822428\n",
      "  tol, rng, random, positive)\n",
      "/opt/anaconda3/lib/python3.7/site-packages/sklearn/linear_model/_coordinate_descent.py:528: ConvergenceWarning: Objective did not converge. You might want to increase the number of iterations. Duality gap: 399269261684.75635, tolerance: 598253227.0822428\n",
      "  tol, rng, random, positive)\n",
      "/opt/anaconda3/lib/python3.7/site-packages/sklearn/linear_model/_coordinate_descent.py:528: ConvergenceWarning: Objective did not converge. You might want to increase the number of iterations. Duality gap: 34842811542.606445, tolerance: 594913371.3044891\n",
      "  tol, rng, random, positive)\n",
      "/opt/anaconda3/lib/python3.7/site-packages/sklearn/linear_model/_coordinate_descent.py:528: ConvergenceWarning: Objective did not converge. You might want to increase the number of iterations. Duality gap: 129560354100.16943, tolerance: 594913371.3044891\n",
      "  tol, rng, random, positive)\n",
      "/opt/anaconda3/lib/python3.7/site-packages/sklearn/linear_model/_coordinate_descent.py:528: ConvergenceWarning: Objective did not converge. You might want to increase the number of iterations. Duality gap: 214612554199.39185, tolerance: 594913371.3044891\n",
      "  tol, rng, random, positive)\n",
      "/opt/anaconda3/lib/python3.7/site-packages/sklearn/linear_model/_coordinate_descent.py:528: ConvergenceWarning: Objective did not converge. You might want to increase the number of iterations. Duality gap: 281328731395.67145, tolerance: 594913371.3044891\n",
      "  tol, rng, random, positive)\n",
      "/opt/anaconda3/lib/python3.7/site-packages/sklearn/linear_model/_coordinate_descent.py:528: ConvergenceWarning: Objective did not converge. You might want to increase the number of iterations. Duality gap: 329244697960.0012, tolerance: 594913371.3044891\n",
      "  tol, rng, random, positive)\n",
      "/opt/anaconda3/lib/python3.7/site-packages/sklearn/linear_model/_coordinate_descent.py:528: ConvergenceWarning: Objective did not converge. You might want to increase the number of iterations. Duality gap: 369569043782.34717, tolerance: 594913371.3044891\n",
      "  tol, rng, random, positive)\n",
      "/opt/anaconda3/lib/python3.7/site-packages/sklearn/linear_model/_coordinate_descent.py:528: ConvergenceWarning: Objective did not converge. You might want to increase the number of iterations. Duality gap: 30741786949.260254, tolerance: 568584004.1162201\n",
      "  tol, rng, random, positive)\n",
      "/opt/anaconda3/lib/python3.7/site-packages/sklearn/linear_model/_coordinate_descent.py:528: ConvergenceWarning: Objective did not converge. You might want to increase the number of iterations. Duality gap: 116030804504.13586, tolerance: 568584004.1162201\n",
      "  tol, rng, random, positive)\n",
      "/opt/anaconda3/lib/python3.7/site-packages/sklearn/linear_model/_coordinate_descent.py:528: ConvergenceWarning: Objective did not converge. You might want to increase the number of iterations. Duality gap: 193021759504.74994, tolerance: 568584004.1162201\n",
      "  tol, rng, random, positive)\n",
      "/opt/anaconda3/lib/python3.7/site-packages/sklearn/linear_model/_coordinate_descent.py:528: ConvergenceWarning: Objective did not converge. You might want to increase the number of iterations. Duality gap: 248664538183.38202, tolerance: 568584004.1162201\n",
      "  tol, rng, random, positive)\n",
      "/opt/anaconda3/lib/python3.7/site-packages/sklearn/linear_model/_coordinate_descent.py:528: ConvergenceWarning: Objective did not converge. You might want to increase the number of iterations. Duality gap: 297404951384.7421, tolerance: 568584004.1162201\n",
      "  tol, rng, random, positive)\n",
      "/opt/anaconda3/lib/python3.7/site-packages/sklearn/linear_model/_coordinate_descent.py:528: ConvergenceWarning: Objective did not converge. You might want to increase the number of iterations. Duality gap: 334474960202.3343, tolerance: 568584004.1162201\n",
      "  tol, rng, random, positive)\n",
      "/opt/anaconda3/lib/python3.7/site-packages/sklearn/linear_model/_coordinate_descent.py:528: ConvergenceWarning: Objective did not converge. You might want to increase the number of iterations. Duality gap: 362861957437.29486, tolerance: 568584004.1162201\n",
      "  tol, rng, random, positive)\n",
      "/opt/anaconda3/lib/python3.7/site-packages/sklearn/linear_model/_coordinate_descent.py:528: ConvergenceWarning: Objective did not converge. You might want to increase the number of iterations. Duality gap: 63140714218.934326, tolerance: 610437683.4824396\n",
      "  tol, rng, random, positive)\n",
      "/opt/anaconda3/lib/python3.7/site-packages/sklearn/linear_model/_coordinate_descent.py:528: ConvergenceWarning: Objective did not converge. You might want to increase the number of iterations. Duality gap: 155421613200.3672, tolerance: 610437683.4824396\n",
      "  tol, rng, random, positive)\n",
      "/opt/anaconda3/lib/python3.7/site-packages/sklearn/linear_model/_coordinate_descent.py:528: ConvergenceWarning: Objective did not converge. You might want to increase the number of iterations. Duality gap: 232565779285.07227, tolerance: 610437683.4824396\n",
      "  tol, rng, random, positive)\n",
      "/opt/anaconda3/lib/python3.7/site-packages/sklearn/linear_model/_coordinate_descent.py:528: ConvergenceWarning: Objective did not converge. You might want to increase the number of iterations. Duality gap: 292197875021.40497, tolerance: 610437683.4824396\n",
      "  tol, rng, random, positive)\n",
      "/opt/anaconda3/lib/python3.7/site-packages/sklearn/linear_model/_coordinate_descent.py:528: ConvergenceWarning: Objective did not converge. You might want to increase the number of iterations. Duality gap: 335118606265.9221, tolerance: 610437683.4824396\n",
      "  tol, rng, random, positive)\n",
      "/opt/anaconda3/lib/python3.7/site-packages/sklearn/linear_model/_coordinate_descent.py:528: ConvergenceWarning: Objective did not converge. You might want to increase the number of iterations. Duality gap: 370968727315.6809, tolerance: 610437683.4824396\n",
      "  tol, rng, random, positive)\n",
      "/opt/anaconda3/lib/python3.7/site-packages/sklearn/linear_model/_coordinate_descent.py:532: ConvergenceWarning: Objective did not converge. You might want to increase the number of iterations. Duality gap: 10911808614.624512, tolerance: 669111146.3481958\n",
      "  positive)\n",
      "/opt/anaconda3/lib/python3.7/site-packages/sklearn/linear_model/_coordinate_descent.py:532: ConvergenceWarning: Objective did not converge. You might want to increase the number of iterations. Duality gap: 10911808614.624512, tolerance: 669111146.3481958\n",
      "  positive)\n"
     ]
    },
    {
     "data": {
      "text/plain": [
       "18013.980617595913"
      ]
     },
     "execution_count": 15,
     "metadata": {},
     "output_type": "execute_result"
    }
   ],
   "source": [
    "lassocv = LassoCV(alphas = alphas , cv = 10, max_iter = 10000, normalize = True)\n",
    "lassocv.fit(X_train, y_train)\n",
    "\n",
    "lasso.set_params(alpha=lassocv.alpha_)\n",
    "lasso.fit(X_train, y_train)\n",
    "np.sqrt(mean_squared_error(y_test, lasso.predict(X_test)))"
   ]
  },
  {
   "cell_type": "markdown",
   "metadata": {},
   "source": [
    "# Get estimates\n",
    "i = 4\n",
    "#Left the real, right the predicted\n",
    "y_test[i],lasso.predict(X_test)[i]"
   ]
  },
  {
   "cell_type": "code",
   "execution_count": 16,
   "metadata": {},
   "outputs": [
    {
     "name": "stdout",
     "output_type": "stream",
     "text": [
      "POSITIVE impact Features\n",
      "coeff    34\n",
      "dtype: int64\n",
      "                                            coeff\n",
      "Wheel Size Ratio                        711045.42\n",
      "Fourth Gear Ratio (:1)                   30747.27\n",
      "Rear Tire Width                           7265.80\n",
      "Displacement (L)                          4294.26\n",
      "Rear Wheel Size                           3859.76\n",
      "First Gear Ratio (:1)                     2327.65\n",
      "Cylinders                                 1618.92\n",
      "Passenger Doors                           1518.44\n",
      "Fifth Gear Ratio (:1)                      472.43\n",
      "Second Leg Room (in)                       435.06\n",
      "Roadside Assistance Years                  426.96\n",
      "Front Shoulder Room (in)                   404.83\n",
      "Fuel Economy Est-Combined (MPG)            392.03\n",
      "Second Head Room (in)                      318.75\n",
      "Reverse Ratio (:1)                         316.21\n",
      "Final Drive Axle Ratio (:1)                267.77\n",
      "Width, Max w/o mirrors (in)                216.98\n",
      "Passenger Capacity                         194.11\n",
      "Wheelbase (in)                             158.19\n",
      "Front Brake Rotor Diam x Thickness (in)    113.05\n",
      "Track Width, Front (in)                    110.52\n",
      "Fuel Tank Capacity, Approx (gal)            73.51\n",
      "Net Torque                                  66.04\n",
      "Height, Overall (in)                        39.25\n",
      "Track Width, Rear (in)                      35.87\n",
      "EPA Fuel Economy Est - City (MPG)           31.12\n",
      "Second Hip Room (in)                         5.67\n",
      "Maximum Alternator Capacity (amps)           1.79\n",
      "Base Curb Weight (lbs)                       0.71\n",
      "Drivetrain Miles/km                          0.69\n",
      "Basic Miles/km                               0.50\n",
      "Net Horsepower RPM                           0.38\n",
      "Roadside Assistance Miles/km                 0.13\n",
      "Corrosion Miles/km                           0.00\n"
     ]
    }
   ],
   "source": [
    "\n",
    "res = pd.Series(lasso.coef_, index=X_train.columns).to_frame(\"coeff\")\n",
    "\n",
    "print(\"POSITIVE impact Features\")\n",
    "print(res[(res.coeff!=0) & (res.coeff>0) ].count())\n",
    "print(res[(res.coeff!=0) & (res.coeff>0)  ].sort_values('coeff', ascending=False))"
   ]
  },
  {
   "cell_type": "code",
   "execution_count": 17,
   "metadata": {},
   "outputs": [
    {
     "name": "stdout",
     "output_type": "stream",
     "text": [
      "NEGATIVE impact Features\n",
      "coeff    22\n",
      "dtype: int64\n",
      "                                                   coeff\n",
      "Tire Width Ratio                             -1585844.96\n",
      "Basic Years                                    -12175.18\n",
      "Third Gear Ratio (:1)                          -11948.27\n",
      "Second Gear Ratio (:1)                         -11614.07\n",
      "Front Tire Width                                -7281.47\n",
      "Drivetrain Years                                -5213.16\n",
      "Tire Ratio                                      -1947.66\n",
      "Rear Brake Rotor Diam x Thickness (in)          -1067.02\n",
      "Sixth Gear Ratio (:1)                            -981.23\n",
      "Front Leg Room (in)                              -865.30\n",
      "Corrosion Years                                  -653.36\n",
      "Second Shoulder Room (in)                        -402.64\n",
      "EPA Fuel Economy Est - Hwy (MPG)                 -291.56\n",
      "Front Hip Room (in)                              -228.77\n",
      "Year                                             -120.49\n",
      "Passenger Volume                                  -70.72\n",
      "Front Head Room (in)                              -53.81\n",
      "Displacement (cc)                                 -19.94\n",
      "Wt Distributing Hitch - Max Tongue Wt. (lbs)      -14.35\n",
      "Gears                                             -12.56\n",
      "Cold Cranking Amps @ 0° F (Primary)                -6.76\n",
      "Net Torque RPM                                     -0.91\n"
     ]
    }
   ],
   "source": [
    "print(\"NEGATIVE impact Features\")\n",
    "print(res[(res.coeff!=0) & (res.coeff<0) ].count())\n",
    "print(res[(res.coeff!=0) & (res.coeff<0)  ].sort_values('coeff', ascending=True))"
   ]
  },
  {
   "cell_type": "code",
   "execution_count": 18,
   "metadata": {},
   "outputs": [
    {
     "name": "stdout",
     "output_type": "stream",
     "text": [
      "Penalised Features\n",
      "coeff    1\n",
      "dtype: int64\n",
      "                  coeff\n",
      "Front Wheel Size  -0.00\n"
     ]
    }
   ],
   "source": [
    "print(\"Penalised Features\")\n",
    "print(res[(res.coeff==0) ].count())\n",
    "print(res[(res.coeff==0)])"
   ]
  },
  {
   "cell_type": "code",
   "execution_count": 19,
   "metadata": {},
   "outputs": [],
   "source": [
    "xgbc = xgb.XGBRegressor()\n"
   ]
  },
  {
   "cell_type": "markdown",
   "metadata": {},
   "source": [
    "pip install xgboost==1.3.3"
   ]
  },
  {
   "cell_type": "code",
   "execution_count": 20,
   "metadata": {},
   "outputs": [],
   "source": [
    "model = xgbc.fit(X_train, y_train)\n",
    "\n"
   ]
  },
  {
   "cell_type": "code",
   "execution_count": 21,
   "metadata": {},
   "outputs": [
    {
     "data": {
      "text/plain": [
       "<AxesSubplot:title={'center':'Feature importance'}, xlabel='F score', ylabel='Features'>"
      ]
     },
     "execution_count": 21,
     "metadata": {},
     "output_type": "execute_result"
    },
    {
     "data": {
      "image/png": "[encoded data removed]",
      "text/plain": [
       "<Figure size 432x288 with 1 Axes>"
      ]
     },
     "metadata": {
      "needs_background": "light"
     },
     "output_type": "display_data"
    }
   ],
   "source": [
    "xgb.plot_importance(model, max_num_features=20)"
   ]
  },
  {
   "cell_type": "code",
   "execution_count": 22,
   "metadata": {},
   "outputs": [],
   "source": [
    "Xcol = ['Base Curb Weight (lbs)','Height, Overall (in)','Net Torque','Rear Wheel Size','Passenger Capacity','Year','Wt Distributing Hitch - Max Tongue Wt. (lbs)','Fuel Economy Est-Combined (MPG)','Front Head Room (in)','Rear Tire Width','Wheelbase (in)','EPA Fuel Economy Est - Hwy (MPG)','Net Horsepower RPM','Second Head Room (in)','Fuel Tank Capacity, Approx (gal)','Passenger Volume','Net Torque RPM','Front Leg Room (in)','Width, Max w/o mirrors (in)','Second Shoulder Room (in)']"
   ]
  },
  {
   "cell_type": "code",
   "execution_count": 23,
   "metadata": {},
   "outputs": [],
   "source": [
    "X_train, X_test, y_train, y_test = train_test_split(\n",
    "    df[Xcol], df['MSRP'], test_size=0.33, random_state=42)"
   ]
  },
  {
   "cell_type": "markdown",
   "metadata": {},
   "source": [
    "# Ridge Regression"
   ]
  },
  {
   "cell_type": "code",
   "execution_count": 39,
   "metadata": {},
   "outputs": [],
   "source": [
    "model = Ridge(solver=\"sag\", random_state=42, alpha=0.01)"
   ]
  },
  {
   "cell_type": "code",
   "execution_count": 40,
   "metadata": {},
   "outputs": [
    {
     "data": {
      "text/plain": [
       "Ridge(alpha=0.01, random_state=42, solver='sag')"
      ]
     },
     "execution_count": 40,
     "metadata": {},
     "output_type": "execute_result"
    }
   ],
   "source": [
    "model.fit(X_train, y_train)"
   ]
  },
  {
   "cell_type": "code",
   "execution_count": 41,
   "metadata": {},
   "outputs": [
    {
     "name": "stdout",
     "output_type": "stream",
     "text": [
      "Train RMSLE: 27229.44074728784\n",
      "Train mse: 741442443.4100593\n"
     ]
    }
   ],
   "source": [
    "ridge_preds_tr = model.predict(X_train)\n",
    "\n",
    "ridge_preds_te = model.predict(X_test)\n",
    "\n",
    "print('Train RMSLE:', sqrt(mse(y_train, ridge_preds_tr)))\n",
    "print('Train mse:', mse(y_train, ridge_preds_tr))"
   ]
  },
  {
   "cell_type": "markdown",
   "metadata": {},
   "source": [
    "# SVM"
   ]
  },
  {
   "cell_type": "code",
   "execution_count": 42,
   "metadata": {},
   "outputs": [],
   "source": [
    "model = SVR()"
   ]
  },
  {
   "cell_type": "code",
   "execution_count": 43,
   "metadata": {},
   "outputs": [
    {
     "data": {
      "text/plain": [
       "SVR()"
      ]
     },
     "execution_count": 43,
     "metadata": {},
     "output_type": "execute_result"
    }
   ],
   "source": [
    "model.fit(X_train, y_train)"
   ]
  },
  {
   "cell_type": "code",
   "execution_count": 44,
   "metadata": {},
   "outputs": [
    {
     "name": "stdout",
     "output_type": "stream",
     "text": [
      "Train RMSLE: 42931.0664644179\n",
      "Train mse: 1843076467.772267\n"
     ]
    }
   ],
   "source": [
    "SVM_preds_tr = model.predict(X_train)\n",
    "\n",
    "SVM_preds_te = model.predict(X_test)\n",
    "\n",
    "print('Train RMSLE:', sqrt(mse(y_train, SVM_preds_tr)))\n",
    "print('Train mse:', mse(y_train, SVM_preds_tr))"
   ]
  },
  {
   "cell_type": "markdown",
   "metadata": {},
   "source": [
    "# RandomForest"
   ]
  },
  {
   "cell_type": "code",
   "execution_count": 59,
   "metadata": {},
   "outputs": [],
   "source": [
    "model = RandomForestRegressor()"
   ]
  },
  {
   "cell_type": "code",
   "execution_count": 60,
   "metadata": {},
   "outputs": [
    {
     "data": {
      "text/plain": [
       "RandomForestRegressor()"
      ]
     },
     "execution_count": 60,
     "metadata": {},
     "output_type": "execute_result"
    }
   ],
   "source": [
    "model.fit(X_train, y_train)"
   ]
  },
  {
   "cell_type": "code",
   "execution_count": 47,
   "metadata": {},
   "outputs": [
    {
     "name": "stdout",
     "output_type": "stream",
     "text": [
      "Train RMSLE: 3347.7968434905465\n",
      "Train mse: 11207743.705285268\n"
     ]
    }
   ],
   "source": [
    "RFR_preds_tr = model.predict(X_train)\n",
    "\n",
    "RFR_preds_te = model.predict(X_test)\n",
    "\n",
    "print('Train RMSLE:', sqrt(mse(y_train, RFR_preds_tr)))\n",
    "print('Train mse:', mse(y_train, RFR_preds_tr))"
   ]
  },
  {
   "cell_type": "code",
   "execution_count": 51,
   "metadata": {},
   "outputs": [
    {
     "data": {
      "text/plain": [
       "Index(['Base Curb Weight (lbs)', 'Height, Overall (in)', 'Net Torque',\n",
       "       'Rear Wheel Size', 'Passenger Capacity', 'Year',\n",
       "       'Wt Distributing Hitch - Max Tongue Wt. (lbs)',\n",
       "       'Fuel Economy Est-Combined (MPG)', 'Front Head Room (in)',\n",
       "       'Rear Tire Width', 'Wheelbase (in)', 'EPA Fuel Economy Est - Hwy (MPG)',\n",
       "       'Net Horsepower RPM', 'Second Head Room (in)',\n",
       "       'Fuel Tank Capacity, Approx (gal)', 'Passenger Volume',\n",
       "       'Net Torque RPM', 'Front Leg Room (in)', 'Width, Max w/o mirrors (in)',\n",
       "       'Second Shoulder Room (in)'],\n",
       "      dtype='object')"
      ]
     },
     "execution_count": 51,
     "metadata": {},
     "output_type": "execute_result"
    }
   ],
   "source": [
    "X_train.columns"
   ]
  },
  {
   "cell_type": "code",
   "execution_count": 50,
   "metadata": {},
   "outputs": [
    {
     "data": {
      "text/html": [
       "<div>\n",
       "<style scoped>\n",
       "    .dataframe tbody tr th:only-of-type {\n",
       "        vertical-align: middle;\n",
       "    }\n",
       "\n",
       "    .dataframe tbody tr th {\n",
       "        vertical-align: top;\n",
       "    }\n",
       "\n",
       "    .dataframe thead th {\n",
       "        text-align: right;\n",
       "    }\n",
       "</style>\n",
       "<table border=\"1\" class=\"dataframe\">\n",
       "  <thead>\n",
       "    <tr style=\"text-align: right;\">\n",
       "      <th></th>\n",
       "      <th>Base Curb Weight (lbs)</th>\n",
       "      <th>Height, Overall (in)</th>\n",
       "      <th>Net Torque</th>\n",
       "      <th>Rear Wheel Size</th>\n",
       "      <th>Passenger Capacity</th>\n",
       "      <th>Year</th>\n",
       "      <th>Wt Distributing Hitch - Max Tongue Wt. (lbs)</th>\n",
       "      <th>Fuel Economy Est-Combined (MPG)</th>\n",
       "      <th>Front Head Room (in)</th>\n",
       "      <th>Rear Tire Width</th>\n",
       "      <th>Wheelbase (in)</th>\n",
       "      <th>EPA Fuel Economy Est - Hwy (MPG)</th>\n",
       "      <th>Net Horsepower RPM</th>\n",
       "      <th>Second Head Room (in)</th>\n",
       "      <th>Fuel Tank Capacity, Approx (gal)</th>\n",
       "      <th>Passenger Volume</th>\n",
       "      <th>Net Torque RPM</th>\n",
       "      <th>Front Leg Room (in)</th>\n",
       "      <th>Width, Max w/o mirrors (in)</th>\n",
       "      <th>Second Shoulder Room (in)</th>\n",
       "    </tr>\n",
       "  </thead>\n",
       "  <tbody>\n",
       "    <tr>\n",
       "      <th>count</th>\n",
       "      <td>3824.00</td>\n",
       "      <td>3824.00</td>\n",
       "      <td>3824.00</td>\n",
       "      <td>3824.00</td>\n",
       "      <td>3824.00</td>\n",
       "      <td>3824.00</td>\n",
       "      <td>3824.00</td>\n",
       "      <td>3824.00</td>\n",
       "      <td>3824.00</td>\n",
       "      <td>3824.00</td>\n",
       "      <td>3824.00</td>\n",
       "      <td>3824.00</td>\n",
       "      <td>3824.00</td>\n",
       "      <td>3824.00</td>\n",
       "      <td>3824.00</td>\n",
       "      <td>3824.00</td>\n",
       "      <td>3824.00</td>\n",
       "      <td>3824.00</td>\n",
       "      <td>3824.00</td>\n",
       "      <td>3824.00</td>\n",
       "    </tr>\n",
       "    <tr>\n",
       "      <th>mean</th>\n",
       "      <td>2566.81</td>\n",
       "      <td>64.80</td>\n",
       "      <td>284.08</td>\n",
       "      <td>18.06</td>\n",
       "      <td>4.98</td>\n",
       "      <td>2017.71</td>\n",
       "      <td>261.58</td>\n",
       "      <td>19.92</td>\n",
       "      <td>37.73</td>\n",
       "      <td>243.31</td>\n",
       "      <td>116.81</td>\n",
       "      <td>23.09</td>\n",
       "      <td>5753.29</td>\n",
       "      <td>32.88</td>\n",
       "      <td>19.00</td>\n",
       "      <td>55.27</td>\n",
       "      <td>3407.19</td>\n",
       "      <td>40.23</td>\n",
       "      <td>74.48</td>\n",
       "      <td>48.94</td>\n",
       "    </tr>\n",
       "    <tr>\n",
       "      <th>std</th>\n",
       "      <td>1806.50</td>\n",
       "      <td>11.24</td>\n",
       "      <td>112.34</td>\n",
       "      <td>1.42</td>\n",
       "      <td>1.33</td>\n",
       "      <td>1.20</td>\n",
       "      <td>341.69</td>\n",
       "      <td>10.86</td>\n",
       "      <td>9.22</td>\n",
       "      <td>25.90</td>\n",
       "      <td>16.93</td>\n",
       "      <td>12.23</td>\n",
       "      <td>1020.87</td>\n",
       "      <td>13.45</td>\n",
       "      <td>5.99</td>\n",
       "      <td>53.64</td>\n",
       "      <td>1335.50</td>\n",
       "      <td>8.59</td>\n",
       "      <td>7.05</td>\n",
       "      <td>20.60</td>\n",
       "    </tr>\n",
       "    <tr>\n",
       "      <th>min</th>\n",
       "      <td>0.00</td>\n",
       "      <td>0.00</td>\n",
       "      <td>0.00</td>\n",
       "      <td>14.00</td>\n",
       "      <td>1.00</td>\n",
       "      <td>2016.00</td>\n",
       "      <td>0.00</td>\n",
       "      <td>0.00</td>\n",
       "      <td>0.00</td>\n",
       "      <td>175.00</td>\n",
       "      <td>0.00</td>\n",
       "      <td>0.00</td>\n",
       "      <td>0.00</td>\n",
       "      <td>0.00</td>\n",
       "      <td>0.00</td>\n",
       "      <td>0.00</td>\n",
       "      <td>0.00</td>\n",
       "      <td>0.00</td>\n",
       "      <td>0.00</td>\n",
       "      <td>0.00</td>\n",
       "    </tr>\n",
       "    <tr>\n",
       "      <th>25%</th>\n",
       "      <td>0.00</td>\n",
       "      <td>57.20</td>\n",
       "      <td>200.00</td>\n",
       "      <td>17.00</td>\n",
       "      <td>5.00</td>\n",
       "      <td>2016.00</td>\n",
       "      <td>0.00</td>\n",
       "      <td>17.00</td>\n",
       "      <td>38.20</td>\n",
       "      <td>225.00</td>\n",
       "      <td>106.30</td>\n",
       "      <td>21.00</td>\n",
       "      <td>5500.00</td>\n",
       "      <td>36.80</td>\n",
       "      <td>15.30</td>\n",
       "      <td>0.00</td>\n",
       "      <td>2000.00</td>\n",
       "      <td>41.00</td>\n",
       "      <td>72.30</td>\n",
       "      <td>52.80</td>\n",
       "    </tr>\n",
       "    <tr>\n",
       "      <th>50%</th>\n",
       "      <td>3351.00</td>\n",
       "      <td>64.80</td>\n",
       "      <td>266.00</td>\n",
       "      <td>18.00</td>\n",
       "      <td>5.00</td>\n",
       "      <td>2018.00</td>\n",
       "      <td>100.00</td>\n",
       "      <td>22.00</td>\n",
       "      <td>39.50</td>\n",
       "      <td>245.00</td>\n",
       "      <td>111.70</td>\n",
       "      <td>26.00</td>\n",
       "      <td>6000.00</td>\n",
       "      <td>37.80</td>\n",
       "      <td>18.50</td>\n",
       "      <td>82.00</td>\n",
       "      <td>4000.00</td>\n",
       "      <td>41.80</td>\n",
       "      <td>74.40</td>\n",
       "      <td>55.50</td>\n",
       "    </tr>\n",
       "    <tr>\n",
       "      <th>75%</th>\n",
       "      <td>3934.00</td>\n",
       "      <td>70.90</td>\n",
       "      <td>339.00</td>\n",
       "      <td>19.00</td>\n",
       "      <td>5.00</td>\n",
       "      <td>2019.00</td>\n",
       "      <td>500.00</td>\n",
       "      <td>26.00</td>\n",
       "      <td>40.40</td>\n",
       "      <td>265.00</td>\n",
       "      <td>120.95</td>\n",
       "      <td>31.00</td>\n",
       "      <td>6400.00</td>\n",
       "      <td>39.00</td>\n",
       "      <td>22.50</td>\n",
       "      <td>100.10</td>\n",
       "      <td>4400.00</td>\n",
       "      <td>42.60</td>\n",
       "      <td>78.60</td>\n",
       "      <td>58.30</td>\n",
       "    </tr>\n",
       "    <tr>\n",
       "      <th>max</th>\n",
       "      <td>8591.00</td>\n",
       "      <td>110.10</td>\n",
       "      <td>935.00</td>\n",
       "      <td>22.00</td>\n",
       "      <td>15.00</td>\n",
       "      <td>2019.00</td>\n",
       "      <td>1330.00</td>\n",
       "      <td>109.00</td>\n",
       "      <td>63.60</td>\n",
       "      <td>355.00</td>\n",
       "      <td>178.00</td>\n",
       "      <td>66.00</td>\n",
       "      <td>8400.00</td>\n",
       "      <td>65.20</td>\n",
       "      <td>48.00</td>\n",
       "      <td>172.60</td>\n",
       "      <td>6500.00</td>\n",
       "      <td>46.40</td>\n",
       "      <td>86.30</td>\n",
       "      <td>71.40</td>\n",
       "    </tr>\n",
       "  </tbody>\n",
       "</table>\n",
       "</div>"
      ],
      "text/plain": [
       "       Base Curb Weight (lbs)  Height, Overall (in)  Net Torque  \\\n",
       "count                 3824.00               3824.00     3824.00   \n",
       "mean                  2566.81                 64.80      284.08   \n",
       "std                   1806.50                 11.24      112.34   \n",
       "min                      0.00                  0.00        0.00   \n",
       "25%                      0.00                 57.20      200.00   \n",
       "50%                   3351.00                 64.80      266.00   \n",
       "75%                   3934.00                 70.90      339.00   \n",
       "max                   8591.00                110.10      935.00   \n",
       "\n",
       "       Rear Wheel Size  Passenger Capacity    Year  \\\n",
       "count          3824.00             3824.00 3824.00   \n",
       "mean             18.06                4.98 2017.71   \n",
       "std               1.42                1.33    1.20   \n",
       "min              14.00                1.00 2016.00   \n",
       "25%              17.00                5.00 2016.00   \n",
       "50%              18.00                5.00 2018.00   \n",
       "75%              19.00                5.00 2019.00   \n",
       "max              22.00               15.00 2019.00   \n",
       "\n",
       "       Wt Distributing Hitch - Max Tongue Wt. (lbs)  \\\n",
       "count                                       3824.00   \n",
       "mean                                         261.58   \n",
       "std                                          341.69   \n",
       "min                                            0.00   \n",
       "25%                                            0.00   \n",
       "50%                                          100.00   \n",
       "75%                                          500.00   \n",
       "max                                         1330.00   \n",
       "\n",
       "       Fuel Economy Est-Combined (MPG)  Front Head Room (in)  Rear Tire Width  \\\n",
       "count                          3824.00               3824.00          3824.00   \n",
       "mean                             19.92                 37.73           243.31   \n",
       "std                              10.86                  9.22            25.90   \n",
       "min                               0.00                  0.00           175.00   \n",
       "25%                              17.00                 38.20           225.00   \n",
       "50%                              22.00                 39.50           245.00   \n",
       "75%                              26.00                 40.40           265.00   \n",
       "max                             109.00                 63.60           355.00   \n",
       "\n",
       "       Wheelbase (in)  EPA Fuel Economy Est - Hwy (MPG)  Net Horsepower RPM  \\\n",
       "count         3824.00                           3824.00             3824.00   \n",
       "mean           116.81                             23.09             5753.29   \n",
       "std             16.93                             12.23             1020.87   \n",
       "min              0.00                              0.00                0.00   \n",
       "25%            106.30                             21.00             5500.00   \n",
       "50%            111.70                             26.00             6000.00   \n",
       "75%            120.95                             31.00             6400.00   \n",
       "max            178.00                             66.00             8400.00   \n",
       "\n",
       "       Second Head Room (in)  Fuel Tank Capacity, Approx (gal)  \\\n",
       "count                3824.00                           3824.00   \n",
       "mean                   32.88                             19.00   \n",
       "std                    13.45                              5.99   \n",
       "min                     0.00                              0.00   \n",
       "25%                    36.80                             15.30   \n",
       "50%                    37.80                             18.50   \n",
       "75%                    39.00                             22.50   \n",
       "max                    65.20                             48.00   \n",
       "\n",
       "       Passenger Volume  Net Torque RPM  Front Leg Room (in)  \\\n",
       "count           3824.00         3824.00              3824.00   \n",
       "mean              55.27         3407.19                40.23   \n",
       "std               53.64         1335.50                 8.59   \n",
       "min                0.00            0.00                 0.00   \n",
       "25%                0.00         2000.00                41.00   \n",
       "50%               82.00         4000.00                41.80   \n",
       "75%              100.10         4400.00                42.60   \n",
       "max              172.60         6500.00                46.40   \n",
       "\n",
       "       Width, Max w/o mirrors (in)  Second Shoulder Room (in)  \n",
       "count                      3824.00                    3824.00  \n",
       "mean                         74.48                      48.94  \n",
       "std                           7.05                      20.60  \n",
       "min                           0.00                       0.00  \n",
       "25%                          72.30                      52.80  \n",
       "50%                          74.40                      55.50  \n",
       "75%                          78.60                      58.30  \n",
       "max                          86.30                      71.40  "
      ]
     },
     "execution_count": 50,
     "metadata": {},
     "output_type": "execute_result"
    }
   ],
   "source": [
    "X_train.describe()"
   ]
  },
  {
   "cell_type": "code",
   "execution_count": 57,
   "metadata": {},
   "outputs": [],
   "source": [
    "data = [[3351.00,64.80,266.00,18.00,5.00,2018.00,100.00,22.00,39.50,245.00,111.70,26.00,6000.00,37.80,18.50,82.00,4000.00,41.80,74.40,55.50],\n",
    "       [3934.00,70.90,339.00,19.00,5.00,2019.00,500.00,26.00,40.40,265.00,120.95,31.00,6400.00,39.00,22.50,100.10,4400.00,42.60,78.60,58.30]]"
   ]
  },
  {
   "cell_type": "code",
   "execution_count": 58,
   "metadata": {},
   "outputs": [],
   "source": [
    "test_df = pd.DataFrame(data, columns = ['Base Curb Weight (lbs)', 'Height, Overall (in)', 'Net Torque',\n",
    "       'Rear Wheel Size', 'Passenger Capacity', 'Year',\n",
    "       'Wt Distributing Hitch - Max Tongue Wt. (lbs)',\n",
    "       'Fuel Economy Est-Combined (MPG)', 'Front Head Room (in)',\n",
    "       'Rear Tire Width', 'Wheelbase (in)', 'EPA Fuel Economy Est - Hwy (MPG)',\n",
    "       'Net Horsepower RPM', 'Second Head Room (in)',\n",
    "       'Fuel Tank Capacity, Approx (gal)', 'Passenger Volume',\n",
    "       'Net Torque RPM', 'Front Leg Room (in)', 'Width, Max w/o mirrors (in)',\n",
    "       'Second Shoulder Room (in)'])"
   ]
  },
  {
   "cell_type": "code",
   "execution_count": 61,
   "metadata": {},
   "outputs": [],
   "source": [
    "RFR_preds = model.predict(test_df)"
   ]
  },
  {
   "cell_type": "code",
   "execution_count": 62,
   "metadata": {},
   "outputs": [
    {
     "data": {
      "text/plain": [
       "array([37761.09833333, 61716.33333333])"
      ]
     },
     "execution_count": 62,
     "metadata": {},
     "output_type": "execute_result"
    }
   ],
   "source": [
    "RFR_preds"
   ]
  },
  {
   "cell_type": "code",
   "execution_count": null,
   "metadata": {},
   "outputs": [],
   "source": []
  }
 ],
 "metadata": {
  "kernelspec": {
   "display_name": "Python 3",
   "language": "python",
   "name": "python3"
  },
  "language_info": {
   "codemirror_mode": {
    "name": "ipython",
    "version": 3
   },
   "file_extension": ".py",
   "mimetype": "text/x-python",
   "name": "python",
   "nbconvert_exporter": "python",
   "pygments_lexer": "ipython3",
   "version": "3.7.4"
  }
 },
 "nbformat": 4,
 "nbformat_minor": 4
}
